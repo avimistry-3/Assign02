{
  "nbformat": 4,
  "nbformat_minor": 0,
  "metadata": {
    "colab": {
      "name": "COMP8730_Assign02_mistry43.ipynb",
      "provenance": [],
      "authorship_tag": "ABX9TyOiZYmsUUfccjWa8wIvjIAb",
      "include_colab_link": true
    },
    "kernelspec": {
      "name": "python3",
      "display_name": "Python 3"
    },
    "language_info": {
      "name": "python"
    }
  },
  "cells": [
    {
      "cell_type": "markdown",
      "metadata": {
        "id": "view-in-github",
        "colab_type": "text"
      },
      "source": [
        "<a href=\"https://colab.research.google.com/github/avimistry-3/Assign02/blob/main/COMP8730_Assign02_mistry43.ipynb\" target=\"_parent\"><img src=\"https://colab.research.google.com/assets/colab-badge.svg\" alt=\"Open In Colab\"/></a>"
      ]
    },
    {
      "cell_type": "code",
      "execution_count": 1,
      "metadata": {
        "colab": {
          "base_uri": "https://localhost:8080/"
        },
        "id": "Lr7tEmwb0rsp",
        "outputId": "0d9a7675-c92a-489f-e7c3-a4d0946f500d"
      },
      "outputs": [
        {
          "output_type": "stream",
          "name": "stdout",
          "text": [
            "Collecting pytrec_eval\n",
            "  Downloading pytrec_eval-0.5.tar.gz (15 kB)\n",
            "Building wheels for collected packages: pytrec-eval\n",
            "  Building wheel for pytrec-eval (setup.py) ... \u001b[?25l\u001b[?25hdone\n",
            "  Created wheel for pytrec-eval: filename=pytrec_eval-0.5-cp37-cp37m-linux_x86_64.whl size=266608 sha256=6318bf5e3a7173d97b1b53d9b940301faf482604b313f0c2f80183cf9b7009f0\n",
            "  Stored in directory: /root/.cache/pip/wheels/42/96/77/0829b8b2606f90f61ba10a51277629d2b615604e122ee932f4\n",
            "Successfully built pytrec-eval\n",
            "Installing collected packages: pytrec-eval\n",
            "Successfully installed pytrec-eval-0.5\n",
            "[nltk_data] Downloading package brown to /root/nltk_data...\n",
            "[nltk_data]   Unzipping corpora/brown.zip.\n"
          ]
        }
      ],
      "source": [
        "!pip install pytrec_eval\n",
        "import pytrec_eval\n",
        "\n",
        "import nltk\n",
        "from nltk.corpus import brown\n",
        "from nltk.util import ngrams \n",
        "from nltk import bigrams, trigrams\n",
        "\n",
        "nltk.download('brown')\n",
        "\n",
        "from collections import Counter, defaultdict\n",
        "import re\n",
        "\n",
        "import collections\n",
        "from nltk import word_tokenize\n",
        "\n",
        "from operator import itemgetter\n",
        "import matplotlib.pyplot as plt"
      ]
    },
    {
      "cell_type": "code",
      "source": [
        "news_words=brown.words(categories=[\"news\"])\n",
        "\n",
        "model = defaultdict(lambda: defaultdict(lambda: 0))\n",
        "\n",
        "# Count frequency of co-occurance  \n",
        "for sentence in brown.sents():\n",
        "    for w1, w2, w3 in trigrams(sentence, pad_right=True, pad_left=True):\n",
        "        model[(w1, w2)][w3] += 1\n",
        "\n",
        "#normalizinging the frequency of co-occurence \n",
        "for w1_w2 in model:\n",
        "    total_count = float(sum(model[w1_w2].values()))\n",
        "    for w3 in model[w1_w2]:\n",
        "        model[w1_w2][w3] /= total_count\n",
        "\n",
        "print(dict(model[\"When\",\"I\"]))"
      ],
      "metadata": {
        "colab": {
          "base_uri": "https://localhost:8080/"
        },
        "id": "noLl3_SP14rz",
        "outputId": "40e5f243-af28-48a9-d4cd-1e8e60069388"
      },
      "execution_count": 15,
      "outputs": [
        {
          "output_type": "stream",
          "name": "stdout",
          "text": [
            "{'come': 0.025, 'drove': 0.025, 'had': 0.025, 'wheeled': 0.025, 'was': 0.075, 'hold': 0.025, 'came': 0.075, 'looked': 0.025, 'pressed': 0.025, 'interviewed': 0.025, 'question': 0.025, 'mentioned': 0.025, 'try': 0.025, 'take': 0.025, 'speak': 0.025, 'returned': 0.025, 'stand': 0.025, 'informed': 0.025, 'first': 0.025, 'have': 0.025, 'speculated': 0.025, 'talked': 0.025, 'think': 0.025, 'answered': 0.025, 'switched': 0.025, 'say': 0.025, 'asked': 0.05, 'told': 0.025, 'went': 0.05, 'fell': 0.025, 'show': 0.025, 'did': 0.025, 'arrived': 0.025, 'get': 0.025}\n"
          ]
        }
      ]
    },
    {
      "cell_type": "code",
      "source": [
        "FPATH = '/content/sample_data/data.txt'\n",
        "\n",
        "with open(FPATH, mode='r', encoding='utf8') as fp:\n",
        "      flines = fp.readlines()\n",
        "\n",
        "Sentence_List = [i.split(\"*\") for i in flines]\n",
        "Sentence_List = [i[0].split() for i in Sentence_List]\n",
        "\n",
        "sublist = [i[2:4] for i in Sentence_List]\n",
        "Correct_words = [i[1] for i in Sentence_List]\n",
        "\n",
        "\n"
      ],
      "metadata": {
        "id": "vJw7asI10vXo"
      },
      "execution_count": 14,
      "outputs": []
    },
    {
      "cell_type": "code",
      "source": [
        "ngram_list = []\n",
        "for i in ([1,2,3,5,10]):\n",
        "    ng = ngrams(brown.words(),i)\n",
        "    ngram_list.append(ng)"
      ],
      "metadata": {
        "id": "n-FrtNHH1-lC"
      },
      "execution_count": 5,
      "outputs": []
    },
    {
      "cell_type": "code",
      "source": [
        "model1 = defaultdict(lambda: defaultdict(lambda: 0))\n",
        "\n",
        "for sentence in brown.sents():\n",
        "    for w1 in ngrams(model1 ,1, pad_right=True, pad_left=True):\n",
        "        model1[(w1, w2)][w3] += 1\n",
        "        \n",
        "for w1_w2 in model1:\n",
        "    total_count = float(sum(model1[w1_w2].values()))\n",
        "    for w3 in model1[w1_w2]:\n",
        "        model1[w1_w2][w3] /= total_count\n"
      ],
      "metadata": {
        "id": "G5NPAsWL2A_m"
      },
      "execution_count": 16,
      "outputs": []
    },
    {
      "cell_type": "code",
      "source": [
        "\n",
        "model2 = defaultdict(lambda: defaultdict(lambda: 0))\n",
        "\n",
        "for sentence in brown.sents():\n",
        "    for w1, w2 in bigrams(sentence, pad_right=True, pad_left=True):\n",
        "        model2[(w1)][w3] += 1\n",
        "        \n",
        "for w1_w2 in model2:\n",
        "    total_count = float(sum(model2[w1_w2].values()))\n",
        "    for w3 in model2[w1_w2]:\n",
        "        model2[w1_w2][w3] /= total_count\n"
      ],
      "metadata": {
        "id": "-8YzsvYN2DYF"
      },
      "execution_count": 23,
      "outputs": []
    },
    {
      "cell_type": "code",
      "source": [
        "model3 = defaultdict(lambda: defaultdict(lambda: 0))\n",
        "\n",
        "# Count frequency of co-occurance  \n",
        "for sentence in brown.sents():\n",
        "    for w1, w2, w3 in trigrams(sentence, pad_right=True, pad_left=True):\n",
        "        model3[(w1, w2)][w3] += 1\n",
        "        \n",
        "for w1_w2 in model3:\n",
        "    total_count = float(sum(model3[w1_w2].values()))\n",
        "    for w3 in model3[w1_w2]:\n",
        "        model3[w1_w2][w3] /= total_count"
      ],
      "metadata": {
        "id": "1rxMTREH2GSe"
      },
      "execution_count": 17,
      "outputs": []
    },
    {
      "cell_type": "code",
      "source": [
        "model5 = defaultdict(lambda: defaultdict(lambda: 0))\n",
        "\n",
        "for sentence in brown.sents():\n",
        "    for w1, w2, w3, w4,w5 in ngrams(sentence, 5, pad_right=True, pad_left=True):\n",
        "        model5[(w1,w2, w3, w4)][w5] += 1\n",
        "        \n",
        "for w1_w2 in model5:\n",
        "    total_count = float(sum(model5[w1_w2].values()))\n",
        "    for w3 in model5[w1_w2]:\n",
        "        model5[w1_w2][w3] /= total_count"
      ],
      "metadata": {
        "id": "_o6QdKF52I7w"
      },
      "execution_count": 18,
      "outputs": []
    },
    {
      "cell_type": "code",
      "source": [
        "model10 = defaultdict(lambda: defaultdict(lambda: 0))\n",
        "\n",
        "for sentence in brown.sents():\n",
        "    for w1, w2, w3, w4,w5, w6, w7, w8,w9, w10 in ngrams(sentence, 10, pad_right=True, pad_left=True):\n",
        "        model10[(w1,w2, w3, w4,w5, w6, w7, w8,w9,)][w10] += 1\n",
        "        \n",
        "for w1_w2 in model10:\n",
        "    total_count = float(sum(model10[w1_w2].values()))\n",
        "    for w10 in model10[w1_w2]:\n",
        "        model10[w1_w2][w10] /= total_count"
      ],
      "metadata": {
        "id": "W8tVIYlU2LYt"
      },
      "execution_count": 19,
      "outputs": []
    },
    {
      "cell_type": "code",
      "source": [
        "def func1(sentences, model):\n",
        "    Dictionary_items = []\n",
        "    for sentence in sentences:\n",
        "        l = []\n",
        "        dicti = {}\n",
        "        text = sentence\n",
        "        text_length_initial = len(text)\n",
        "        res = dict(sorted(model[tuple(text[-text_length_initial:])].items(), key = itemgetter(1), reverse = True)[:10])\n",
        "        Alist = [x for x in res.keys()]\n",
        "        Dictionary_items.append(Alist) \n",
        "    return(Dictionary_items)"
      ],
      "metadata": {
        "id": "tSh6xab_2N86"
      },
      "execution_count": 20,
      "outputs": []
    },
    {
      "cell_type": "code",
      "source": [
        "predicted_models = []\n",
        "models = [model1, model2, model3, model5, model10]\n",
        "for model in models:\n",
        "    predicted_models.append(func1(sublist, model))\n",
        "\n",
        "len(predicted_models[0])"
      ],
      "metadata": {
        "colab": {
          "base_uri": "https://localhost:8080/"
        },
        "id": "AUXABCmb2RnA",
        "outputId": "11a48f4a-9d7d-48a9-b1d2-cf5a4b800c68"
      },
      "execution_count": 24,
      "outputs": [
        {
          "output_type": "execute_result",
          "data": {
            "text/plain": [
              "198"
            ]
          },
          "metadata": {},
          "execution_count": 24
        }
      ]
    },
    {
      "cell_type": "code",
      "source": [
        "def skMeasure(rigth_word, predicted_words, k=[1, 5, 10]):\n",
        "    count = []\n",
        "    for i in range(198):\n",
        "        candidate_word = predicted_words[i]\n",
        "        right_word = rigth_word[i]\n",
        "        for j in k:\n",
        "            if right_word in candidate_word[:j]:\n",
        "                count.append(1)\n",
        "            else:\n",
        "                count.append(0)\n",
        "                pass\n",
        "    return(sum(count) / len(count))\n"
      ],
      "metadata": {
        "id": "SiEgo5rM5hvN"
      },
      "execution_count": 25,
      "outputs": []
    },
    {
      "cell_type": "code",
      "source": [
        "k1_means_models = []\n",
        "for i in range(5):\n",
        "    k1_means_models.append(skMeasure(Correct_words, predicted_models[i],k=[1]))\n",
        "print(k1_means_models)"
      ],
      "metadata": {
        "colab": {
          "base_uri": "https://localhost:8080/"
        },
        "id": "-Nh998q66DvA",
        "outputId": "78d4524c-d41d-4c6a-9354-0824e8818cfd"
      },
      "execution_count": 30,
      "outputs": [
        {
          "output_type": "stream",
          "name": "stdout",
          "text": [
            "[0.0, 0.0, 0.015151515151515152, 0.0, 0.0]\n"
          ]
        }
      ]
    },
    {
      "cell_type": "code",
      "source": [
        "k5_means_models = []\n",
        "for i in range(5):\n",
        "    k5_means_models.append(skMeasure(Correct_words, predicted_models[i],k=[5]))\n",
        "print(k5_means_models)"
      ],
      "metadata": {
        "colab": {
          "base_uri": "https://localhost:8080/"
        },
        "id": "3PU7oyCa6Zg6",
        "outputId": "73f2f1b1-e049-408e-8586-8496c1c71083"
      },
      "execution_count": 33,
      "outputs": [
        {
          "output_type": "stream",
          "name": "stdout",
          "text": [
            "[0.0, 0.0, 0.015151515151515152, 0.0, 0.0]\n"
          ]
        }
      ]
    },
    {
      "cell_type": "code",
      "source": [
        "k10_means_models = []\n",
        "for i in range(5):\n",
        "    k10_means_models.append(skMeasure(Correct_words, predicted_models[i],k=[10]))\n",
        "print(k10_means_models)"
      ],
      "metadata": {
        "colab": {
          "base_uri": "https://localhost:8080/"
        },
        "id": "A3sHmFaq6kNa",
        "outputId": "b1edc3dd-17f4-44c4-ee2d-4ff2b72503bb"
      },
      "execution_count": 32,
      "outputs": [
        {
          "output_type": "stream",
          "name": "stdout",
          "text": [
            "[0.0, 0.0, 0.020202020202020204, 0.0, 0.0]\n"
          ]
        }
      ]
    },
    {
      "cell_type": "code",
      "source": [
        "plt.rcParams.update({'figure.figsize':(8,4), 'figure.dpi':100})\n",
        "\n",
        "words = [\"s@1\", \"s@5\", \"s@10\"]\n",
        "avg = [0.015151515151515, 0.015151515151515 ,0.020202020202020]\n",
        "\n",
        "plt.bar(words, avg, color ='blue',\n",
        "        width = 0.4)\n",
        "\n",
        "plt.xlabel(\"Performance at s@1, s@5 and s@10\")\n",
        "plt.show()"
      ],
      "metadata": {
        "colab": {
          "base_uri": "https://localhost:8080/",
          "height": 382
        },
        "id": "Alwuuh1z67Td",
        "outputId": "42ca69f5-7037-41ce-cd9a-ddc2e31ce15e"
      },
      "execution_count": 40,
      "outputs": [
        {
          "output_type": "display_data",
          "data": {
            "image/png": "[encoded data removed]",
            "text/plain": [
              "<Figure size 800x400 with 1 Axes>"
            ]
          },
          "metadata": {
            "needs_background": "light"
          }
        }
      ]
    }
  ]
}
